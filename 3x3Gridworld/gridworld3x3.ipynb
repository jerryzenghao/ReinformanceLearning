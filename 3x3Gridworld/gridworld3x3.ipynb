{
 "cells": [
  {
   "cell_type": "code",
   "execution_count": 2,
   "metadata": {},
   "outputs": [
    {
     "output_type": "stream",
     "name": "stdout",
     "text": "DP state value:\n [[ 8.84585576  2.48708754 -0.07860397]\n [ 2.48708754  0.91441864 -0.45308389]\n [-0.07860397 -0.45308389 -1.28140137]]\nTD state value:\n [[ 8.80414207  2.41183136 -0.17575528]\n [ 2.52581862  1.0226199  -0.51408979]\n [-0.18863601 -0.39410003 -1.31197813]]\npolicy iteration:\n (array([[24.41663445, 21.97478124, 19.77712021],\n       [21.97478124, 19.77712021, 17.79928298],\n       [19.77712021, 17.79928298, 16.01935457]]), [[[0.25, 0.25, 0.25, 0.25], [0.0, 0.0, 0.0, 1.0], [0.0, 0.0, 0.0, 1.0]], [[1.0, 0.0, 0.0, 0.0], [0.5, 0.0, 0.0, 0.5], [0.5, 0.0, 0.0, 0.5]], [[1.0, 0.0, 0.0, 0.0], [0.5, 0.0, 0.0, 0.5], [0.5, 0.0, 0.0, 0.5]]])\nQ learning:\n (array([[24.4194281 , 21.97748529, 19.77973676],\n       [21.97748529, 19.77973676, 17.80176308],\n       [19.77973676, 17.80176308, 16.02158677]]), [[[0.25, 0.25, 0.25, 0.25], [0.0, 0.0, 0.0, 1.0], [0.0, 0.0, 0.0, 1.0]], [[1.0, 0.0, 0.0, 0.0], [0.5, 0.0, 0.0, 0.5], [0.5, 0.0, 0.0, 0.5]], [[1.0, 0.0, 0.0, 0.0], [0.5, 0.0, 0.0, 0.5], [0.5, 0.0, 0.0, 0.5]]])\n"
    }
   ],
   "source": [
    "from gridworld.environment import *\n",
    "from gridworld.agent import *\n",
    "\n",
    "grid_size = (3,3)\n",
    "state_reward = {(0,0):10}\n",
    "jump = {(0,0):(2,2)}\n",
    "\n",
    "env = GridWorld(grid_size, state_reward,jump)\n",
    "dp_agt = DPAgent(env) \n",
    "qlearning_agt = QlearningAgent(env)\n",
    "td_agt = TDAgent(env)\n",
    "    \n",
    "    \n",
    "print(\"DP state value:\\n\", dp_agt.policy_evaluation())\n",
    "print(\"TD state value:\\n\", td_agt.temporal_difference(0.01))\n",
    "print(\"policy iteration:\\n\", dp_agt.policy_iteration())\n",
    "print(\"Q learning:\\n\", qlearning_agt.Q_learning(0.01))\n",
    "\n"
   ]
  },
  {
   "cell_type": "code",
   "execution_count": null,
   "metadata": {},
   "outputs": [],
   "source": []
  },
  {
   "cell_type": "code",
   "execution_count": null,
   "metadata": {},
   "outputs": [],
   "source": []
  }
 ],
 "metadata": {
  "kernelspec": {
   "display_name": "Python 3",
   "language": "python",
   "name": "python3"
  },
  "language_info": {
   "codemirror_mode": {
    "name": "ipython",
    "version": 3
   },
   "file_extension": ".py",
   "mimetype": "text/x-python",
   "name": "python",
   "nbconvert_exporter": "python",
   "pygments_lexer": "ipython3",
   "version": "3.7.6-final"
  },
  "toc": {
   "base_numbering": 1,
   "nav_menu": {},
   "number_sections": true,
   "sideBar": true,
   "skip_h1_title": false,
   "title_cell": "Table of Contents",
   "title_sidebar": "Contents",
   "toc_cell": false,
   "toc_position": {},
   "toc_section_display": true,
   "toc_window_display": false
  },
  "varInspector": {
   "cols": {
    "lenName": 16,
    "lenType": 16,
    "lenVar": 40
   },
   "kernels_config": {
    "python": {
     "delete_cmd_postfix": "",
     "delete_cmd_prefix": "del ",
     "library": "var_list.py",
     "varRefreshCmd": "print(var_dic_list())"
    },
    "r": {
     "delete_cmd_postfix": ") ",
     "delete_cmd_prefix": "rm(",
     "library": "var_list.r",
     "varRefreshCmd": "cat(var_dic_list()) "
    }
   },
   "types_to_exclude": [
    "module",
    "function",
    "builtin_function_or_method",
    "instance",
    "_Feature"
   ],
   "window_display": false
  }
 },
 "nbformat": 4,
 "nbformat_minor": 2
}